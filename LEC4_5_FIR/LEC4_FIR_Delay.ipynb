{
 "cells": [
  {
   "cell_type": "markdown",
   "metadata": {},
   "source": [
    "## 2015/4/14 回答同學之疑問\n",
    "\n",
    "問題：y[n]=(x[n])^n 比較delay前後之差別"
   ]
  },
  {
   "cell_type": "code",
   "execution_count": 89,
   "metadata": {
    "collapsed": false
   },
   "outputs": [
    {
     "data": {
      "text/plain": [
       "<matplotlib.text.Text at 0xb504e90>"
      ]
     },
     "execution_count": 89,
     "metadata": {},
     "output_type": "execute_result"
    },
    {
     "data": {
      "image/png": "[encoded data removed]",
      "text/plain": [
       "<matplotlib.figure.Figure at 0xa790990>"
      ]
     },
     "metadata": {},
     "output_type": "display_data"
    }
   ],
   "source": [
    "%matplotlib inline\n",
    "import numpy as np\n",
    "import matplotlib.pyplot as plt\n",
    "n=np.arange(6)\n",
    "x=np.array([0,1,2,3,4,0])\n",
    "plt.figure(1)\n",
    "plt.stem(n,x)\n",
    "plt.xlim((-2,7))\n",
    "plt.ylim((0,10))\n",
    "plt.title('x[n]')\n"
   ]
  },
  {
   "cell_type": "markdown",
   "metadata": {},
   "source": [
    "##第一種情形\n",
    "###先將 x delay "
   ]
  },
  {
   "cell_type": "code",
   "execution_count": 90,
   "metadata": {
    "collapsed": false
   },
   "outputs": [
    {
     "data": {
      "text/plain": [
       "<matplotlib.text.Text at 0xa737a10>"
      ]
     },
     "execution_count": 90,
     "metadata": {},
     "output_type": "execute_result"
    },
    {
     "data": {
      "image/png": "[encoded data removed]",
      "text/plain": [
       "<matplotlib.figure.Figure at 0xa741390>"
      ]
     },
     "metadata": {},
     "output_type": "display_data"
    }
   ],
   "source": [
    "n=np.arange(6)\n",
    "x_n_minus_n0=np.array([0,0,1,2,3,4,])\n",
    "plt.figure(1)\n",
    "plt.stem(n,x_n_minus_n0)\n",
    "plt.xlim((-2,7))\n",
    "plt.ylim((0,10))\n",
    "plt.title('x[n-n0]')"
   ]
  },
  {
   "cell_type": "markdown",
   "metadata": {},
   "source": [
    "再送入系統"
   ]
  },
  {
   "cell_type": "code",
   "execution_count": 91,
   "metadata": {
    "collapsed": false
   },
   "outputs": [
    {
     "name": "stdout",
     "output_type": "stream",
     "text": [
      "[0 1 2 3 4 5]\n",
      "[   1    0    1    8   81 1024]\n"
     ]
    }
   ],
   "source": [
    "w=x_n_minus_n0**n\n",
    "#plt.stem(n,y)\n",
    "print n\n",
    "print w"
   ]
  },
  {
   "cell_type": "markdown",
   "metadata": {},
   "source": [
    "## 第二種情形\n",
    "###先送入 x 再將 y delay "
   ]
  },
  {
   "cell_type": "code",
   "execution_count": 94,
   "metadata": {
    "collapsed": false
   },
   "outputs": [
    {
     "name": "stdout",
     "output_type": "stream",
     "text": [
      "n\n",
      "[0 1 2 3 4 5]\n",
      "x\n",
      "[0 1 2 3 4 0]\n",
      "x_n_minus_n0\n",
      "[0 0 1 2 3 4]\n",
      "w\n",
      "[   1    0    1    8   81 1024]\n",
      "y\n",
      "[  1   1   4  27 256   0]\n",
      "y_n_minus_n0\n",
      "[  0   1   1   4  27 256   0]\n"
     ]
    }
   ],
   "source": [
    "y=x**n\n",
    "y_n_minus_n0=np.insert(y,0,0)\n",
    "print 'n'\n",
    "print n\n",
    "print 'x'\n",
    "print x\n",
    "print 'x_n_minus_n0'\n",
    "print x_n_minus_n0\n",
    "print 'w'\n",
    "print w\n",
    "print 'y'\n",
    "print y\n",
    "print 'y_n_minus_n0'\n",
    "print y_n_minus_n0\n",
    "\n"
   ]
  },
  {
   "cell_type": "markdown",
   "metadata": {},
   "source": [
    "結論：\n",
    "w[n] ==> 第3個時間點為8，是x[2]的3次方\n",
    "y[n-1] ==> 第3個時間點為4，是x[2]的2次方\n",
    "或許能回答你的問題"
   ]
  },
  {
   "cell_type": "code",
   "execution_count": null,
   "metadata": {
    "collapsed": true
   },
   "outputs": [],
   "source": []
  }
 ],
 "metadata": {
  "kernelspec": {
   "display_name": "Python 2",
   "language": "python",
   "name": "python2"
  },
  "language_info": {
   "codemirror_mode": {
    "name": "ipython",
    "version": 2
   },
   "file_extension": ".py",
   "mimetype": "text/x-python",
   "name": "python",
   "nbconvert_exporter": "python",
   "pygments_lexer": "ipython2",
   "version": "2.7.9"
  }
 },
 "nbformat": 4,
 "nbformat_minor": 0
}
