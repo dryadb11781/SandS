{
 "cells": [
  {
   "cell_type": "markdown",
   "metadata": {
    "slideshow": {
     "slide_type": "-"
    }
   },
   "source": [
    "## 實驗一: Python 程式語言初見面\n",
    "\n",
    "用滑鼠點選以下程式碼，並按下\"Play\"鈕執行看看結果<br>\n"
   ]
  },
  {
   "cell_type": "code",
   "execution_count": null,
   "metadata": {
    "collapsed": false
   },
   "outputs": [],
   "source": [
    "#coding: utf-8\n",
    "%matplotlib inline\n",
    "import numpy as np\n",
    "import matplotlib.pyplot as plt\n",
    "\n",
    "x=np.array([0,0,0,0,1,1,1,1,0,0,0,0])\n",
    "plt.plot(x,'ro-')"
   ]
  },
  {
   "cell_type": "markdown",
   "metadata": {},
   "source": [
    "## 問題一\n",
    "(1)按加號新增一個\"Markdown\"區塊，描述你看到了什麼。 <br>\n",
    "(2)再按加號新增一個\"code\"區塊，嘗試畫出 \"三個帽子\"的波形<BR>\n",
    "(按加號後，點選 'Cell Toolbar' 左方是下拉式選單，選擇 CODE)\n",
    "****************************************************************************************"
   ]
  },
  {
   "cell_type": "markdown",
   "metadata": {},
   "source": [
    "## 實驗二: Python 之資料顯示以及np 陣列\n",
    "用滑鼠點選以下程式碼，並按下\"Play\"鈕執行看看結果<br>"
   ]
  },
  {
   "cell_type": "code",
   "execution_count": null,
   "metadata": {
    "collapsed": false
   },
   "outputs": [],
   "source": [
    "#coding: utf-8\n",
    "import numpy as np\n",
    "\n",
    "t=np.arange(0,1,0.1)\n",
    "print t\n",
    "print \"這是 np.arange(0,1,0.1)的結果:\" + str(t)\n",
    "print \"加上一些換行字元\\n\\n\\n\" + \"換行的結果是這樣\\n\"\n",
    "t=np.arange(0,1,0.01)\n",
    "print \"這是 np.arange(0,1,0.01)的結果:\"\n",
    "print t\n",
    "sumt=sum(np.arange(0,10,1))\n",
    "print \"\\n\\n\\n這是 sum(np.arange(0,10,1))的結果:\" +str(sumt)"
   ]
  },
  {
   "cell_type": "markdown",
   "metadata": {
    "slideshow": {
     "slide_type": "-"
    }
   },
   "source": [
    "## 問題二\n",
    "新增一個\"Markdown\"區塊，將以下問題之答案寫下來。<BR>\n",
    "(1)請推論 np.arange 這個函數的用處，以及三個輸入值的意義。<BR>\n",
    "(2)新增一個\"code\"區塊，利用python 程式碼，計算100以下偶數之總合。\n",
    "****************************************************************************************\n"
   ]
  },
  {
   "cell_type": "markdown",
   "metadata": {
    "slideshow": {
     "slide_type": "-"
    }
   },
   "source": [
    "## 實驗三 : 弦波的頻率以及繪圖\n",
    "用滑鼠點選以下程式碼，並按下\"Play\"鈕執行看看結果<br>"
   ]
  },
  {
   "cell_type": "code",
   "execution_count": null,
   "metadata": {
    "collapsed": false
   },
   "outputs": [],
   "source": [
    "#coding: utf-8\n",
    "%matplotlib inline\n",
    "import numpy as np\n",
    "import matplotlib.pyplot as plt\n",
    "\n",
    "t=np.arange(0,1,0.01)\n",
    "pi=np.pi\n",
    "curve=np.sin(2*pi*10*t);\n",
    "curve2=np.sin(2*pi*5*t);\n",
    "plt.plot(t,curve,'b',t,curve2,'r');"
   ]
  },
  {
   "cell_type": "markdown",
   "metadata": {},
   "source": [
    "## 問題三\n",
    "\n",
    "(1)假設橫軸時間單位為秒，請問curve及curve2各為幾Hz弦波(也就是在一秒內走了幾個週期)？<br>\n",
    "(新增一個\"Markdown\"區塊，回答此問題)<BR><BR>\n",
    "(2)又我們如何改變指令，畫出一個 3 Hz的Cosine波呢？<BR>\n",
    "(新增一個\"CODE\"區塊，回答此問題)\n",
    "****************************************************************************************"
   ]
  },
  {
   "cell_type": "markdown",
   "metadata": {},
   "source": [
    "##實驗四 : 影像運算\n",
    "用滑鼠點選以下程式碼，並按下\"Play\"鈕執行看看結果<br>"
   ]
  },
  {
   "cell_type": "code",
   "execution_count": null,
   "metadata": {
    "collapsed": false
   },
   "outputs": [],
   "source": [
    "#coding: utf-8\n",
    "%matplotlib inline\n",
    "import numpy as np\n",
    "import matplotlib.pyplot as plt\n",
    "\n",
    "x=np.array([0,0,0,1,1,1,1,0,0,0])\n",
    "y=np.array([x,x,x,x,x,x,x,x,x,x])\n",
    "print y\n",
    "print y.shape\n",
    "plt.figure(1)\n",
    "plt.imshow(y,cmap='gray',interpolation='nearest')\n",
    "y=np.array([x/5.,x/4.,x/3.,x/2.,x/1.,x,x,x,x,x])\n",
    "plt.figure(2)\n",
    "plt.imshow(y,cmap='gray',interpolation='nearest')"
   ]
  },
  {
   "cell_type": "markdown",
   "metadata": {},
   "source": [
    "## 問題四\n",
    "* (1)請問y 矩陣的大小為何？<br>\n",
    "* (2)試完成一個10x10的矩陣，顯示一個白色十字。\n",
    "* (新增一個\"CODE\"區塊，回答此問題)\n",
    "****************************************************************************************"
   ]
  },
  {
   "cell_type": "markdown",
   "metadata": {},
   "source": [
    "## 實驗五 FIR三點平均 濾波器\n",
    "\n",
    "### 用滑鼠點選以下程式碼，並按下\"Play\"鈕執行看看結果<br>"
   ]
  },
  {
   "cell_type": "code",
   "execution_count": null,
   "metadata": {
    "collapsed": false
   },
   "outputs": [],
   "source": [
    "%matplotlib inline\n",
    "import numpy as np\n",
    "import matplotlib.pyplot as plt\n",
    "n=np.arange(100)\n",
    "w_hat=0.5\n",
    "x_n=np.exp(1.0j*w_hat*n)\n",
    "x_n_1=np.exp(1j*w_hat*(n-1))\n",
    "x_n_2=np.exp(1j*w_hat*(n-2))\n",
    "y=(x_n+x_n_1+x_n_2)/3\n",
    "\n",
    "plt.figure(figsize=(15,5), dpi=300)\n",
    "plt.plot(np.real(x_n),'r*-')\n",
    "plt.plot(np.real(x_n_1),'g*-')\n",
    "plt.plot(np.real(x_n_2),'b*-')\n",
    "\n",
    "params = {'backend': 'ps',\n",
    "          'xtick.labelsize': 24,\n",
    "          'ytick.labelsize': 24,}\n",
    "plt.rcParams.update(params)\n",
    "\n",
    "plt.figure(figsize=(15,5), dpi=300)\n",
    "plt.plot(np.real(x_n_2),'r*-')\n",
    "plt.plot(np.real(y),'b*-')\n",
    "print \"Amplitude: %f\" % np.abs(y)[0]\n",
    "\n",
    "params = {'backend': 'ps',\n",
    "          'xtick.labelsize': 24,\n",
    "          'ytick.labelsize': 24,}\n",
    "plt.rcParams.update(params)"
   ]
  },
  {
   "cell_type": "code",
   "execution_count": null,
   "metadata": {
    "collapsed": false
   },
   "outputs": [],
   "source": [
    "ii=0\n",
    "for w_hat in np.arange(-np.pi,np.pi,0.1):\n",
    "    x_n=np.exp(1j*w_hat*n)\n",
    "    x_n_1=np.exp(1j*w_hat*(n-1))\n",
    "    x_n_2=np.exp(1j*w_hat*(n-2))\n",
    "    y=(x_n*1/3+x_n_1*1/3+x_n_2*1/3)\n",
    "\n",
    "    if ii==0:\n",
    "        w_hat_all=np.array(w_hat)\n",
    "        y_abs=np.array(np.abs(y)[0])\n",
    "    else:\n",
    "        w_hat_all=np.append(w_hat_all,w_hat)\n",
    "        y_abs=np.append(y_abs,np.abs(y)[0])\n",
    " \n",
    "    ii+=1\n",
    "  \n",
    "plt.plot(w_hat_all,y_abs)"
   ]
  },
  {
   "cell_type": "markdown",
   "metadata": {},
   "source": [
    "## 問題五\n",
    "### (1) 三點平均濾波器是何種濾波器?\n",
    "### (2) 嘗試將頻率測試範圍由-pi~pi 改成-3pi~3pi 結果為何？\n",
    "### (3) 嘗試畫出y[n]=x[n]-x[n-1]之頻率響應"
   ]
  },
  {
   "cell_type": "code",
   "execution_count": null,
   "metadata": {
    "collapsed": true
   },
   "outputs": [],
   "source": []
  }
 ],
 "metadata": {
  "kernelspec": {
   "display_name": "Python 2",
   "language": "python",
   "name": "python2"
  },
  "language_info": {
   "codemirror_mode": {
    "name": "ipython",
    "version": 2
   },
   "file_extension": ".py",
   "mimetype": "text/x-python",
   "name": "python",
   "nbconvert_exporter": "python",
   "pygments_lexer": "ipython2",
   "version": "2.7.10"
  }
 },
 "nbformat": 4,
 "nbformat_minor": 0
}
